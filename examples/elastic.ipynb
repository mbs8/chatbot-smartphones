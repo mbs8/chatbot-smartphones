{
 "cells": [
  {
   "cell_type": "code",
   "execution_count": 5,
   "id": "varying-briefs",
   "metadata": {},
   "outputs": [],
   "source": [
    "from elasticsearch import Elasticsearch\n",
    "import json\n",
    "PRODUCT_INDEX = 'products'\n",
    "QA_INDEX = 'qa'     \n",
    "\n"
   ]
  },
  {
   "cell_type": "code",
   "execution_count": 14,
   "id": "documentary-speaker",
   "metadata": {},
   "outputs": [],
   "source": [
    "from elasticsearch import Elasticsearch\n",
    "\n",
    "# Singleton class, use variable es_handle\n",
    "class EsHandle:\n",
    "    def __init__(self):\n",
    "        self._products_index = 'products'\n",
    "        self._qa_index = 'qa'\n",
    "        self._es = Elasticsearch()\n",
    "\n",
    "    # Query all the indices that aren't system indices in the elasticsearch\n",
    "    def get_useful_indices(self):\n",
    "        filtered_idx = filter(lambda x : '.' not in x, [f['index'] for f in self._es.cat.indices(format='json')])\n",
    "        indices_names = [idx for idx in filtered_idx]\n",
    "        return indices_names\n",
    "\n",
    "    # Get the product in the 'products' index by name\n",
    "    def get_product_by_name(self, name):\n",
    "        query_body = {\n",
    "            \"query\": {\n",
    "                \"match\": {\n",
    "                    \"product\": name\n",
    "                }\n",
    "            }\n",
    "        }\n",
    "        possible_products = []\n",
    "        query = self._es.search(index=self._products_index, body=query_body)['hits']['hits']\n",
    "        \n",
    "        for p in query:\n",
    "            possible_products.append(p['_source'])\n",
    "        \n",
    "        return possible_products\n",
    "\n",
    "    # Get the products names and id's from the 'products' index\n",
    "    def get_products(self):\n",
    "        result = []\n",
    "        query = self._es.search(index=self._products_index)['hits']['hits']\n",
    "        \n",
    "        for p in query:\n",
    "            p_id = p['_id']\n",
    "            p_name = p['_source']['product']\n",
    "            result.append((p_name, p_id))\n",
    "        return result\n",
    "    \n",
    "    # Get specific product fact\n",
    "    def get_product_fact(self, product_name, product_fact):\n",
    "        products_jsons = self.get_product_by_name(product_name)\n",
    "        possible_products = []\n",
    "\n",
    "        for product in products_jsons:\n",
    "            title = product.get(\"product\", \"TITLE\")\n",
    "            fact_json = product[\"product_info\"]\n",
    "            value = fact_json.get(product_fact, \"FACT\")\n",
    "            possible_products.append({\"Produto\": title, product_fact: value})\n",
    "        \n",
    "        return possible_products\n",
    "\n",
    "    def get_product_price(self, product_name):\n",
    "        products_jsons = self.get_product_by_name(product_name)\n",
    "        possible_products = []\n",
    "\n",
    "        for product in products_jsons:\n",
    "            title = product.get(\"product\", \"TITLE\")\n",
    "            price = product.get(\"price\", \"PRICE\")\n",
    "            possible_products.append({\"Produto\": title, \"price\": price})\n",
    "        \n",
    "        return possible_products\n",
    "\n",
    "    def get_product_url(self, product_name):\n",
    "        products_json = self.get_product_by_name(product_name)\n",
    "        possible_products = [{\"Produto\": prod.get(\"product\", \"TITLE\"), \"URL\": f\"www.amazon.com.br/gp/product/{prod['additional_info']['ASIN']}\"} for prod in products_json]\n",
    "        return possible_products \n",
    "\n",
    "\n",
    "\n",
    "# Singleton implementation\n",
    "es_handle = EsHandle()"
   ]
  },
  {
   "cell_type": "code",
   "execution_count": 15,
   "id": "pleasant-bahamas",
   "metadata": {},
   "outputs": [
    {
     "output_type": "execute_result",
     "data": {
      "text/plain": [
       "[{'Produto': 'Celular Xiaomi Poco X3 6GB/128GB NFC - Shadow Grey',\n",
       "  'URL': 'www.amazon.com.br/gp/product/B08B9C149J'},\n",
       " {'Produto': \"Celular Apple iPhone 11 64gb / Tela 6.1'' / 12MP / iOS 13\",\n",
       "  'URL': 'www.amazon.com.br/gp/product/B07XS47PVF'}]"
      ]
     },
     "metadata": {},
     "execution_count": 15
    }
   ],
   "source": [
    "possible_products = es_handle.get_product_url(\"Celular\")\n",
    "possible_products"
   ]
  },
  {
   "cell_type": "code",
   "execution_count": 12,
   "metadata": {},
   "outputs": [
    {
     "output_type": "stream",
     "name": "stdout",
     "text": [
      "\n"
     ]
    }
   ],
   "source": [
    "text_to_user = []\n",
    "# format output to user\n",
    "for prod in possible_products:\n",
    "    msg = []\n",
    "    for key in prod:\n",
    "        msg.append(f\"{key}: {prod[key]}\")\n",
    "    msg = \" - \".join(msg)\n",
    "    print(msg)\n",
    "    text_to_user.append(msg)\n",
    "\n",
    "text_to_user = \"\\n\".join(text_to_user)\n",
    "\n",
    "print(text_to_user)"
   ]
  },
  {
   "cell_type": "code",
   "execution_count": 13,
   "metadata": {},
   "outputs": [
    {
     "output_type": "execute_result",
     "data": {
      "text/plain": [
       "''"
      ]
     },
     "metadata": {},
     "execution_count": 13
    }
   ],
   "source": [
    "text_to_user"
   ]
  },
  {
   "cell_type": "code",
   "execution_count": null,
   "metadata": {},
   "outputs": [],
   "source": []
  }
 ],
 "metadata": {
  "kernelspec": {
   "name": "python3",
   "display_name": "Python 3.8.8 64-bit ('tcc': conda)"
  },
  "language_info": {
   "codemirror_mode": {
    "name": "ipython",
    "version": 3
   },
   "file_extension": ".py",
   "mimetype": "text/x-python",
   "name": "python",
   "nbconvert_exporter": "python",
   "pygments_lexer": "ipython3",
   "version": "3.8.8"
  },
  "interpreter": {
   "hash": "4fe4017ae77bb0e9d1c40aea8a2059eee1588c283ad872d6c2744a97e9a9a1e1"
  }
 },
 "nbformat": 4,
 "nbformat_minor": 5
}