{
 "cells": [
  {
   "cell_type": "code",
   "execution_count": 71,
   "id": "documentary-speaker",
   "metadata": {},
   "outputs": [],
   "source": [
    "from elasticsearch import Elasticsearch\n",
    "\n",
    "# Singleton class, use variable es_handle\n",
    "class EsHandle:\n",
    "    def __init__(self):\n",
    "        self._products_index = 'products'\n",
    "        self._qa_index = 'qa'\n",
    "        self._es = Elasticsearch()\n",
    "\n",
    "    # Query all the indices that aren't system indices in the elasticsearch\n",
    "    def get_useful_indices(self):\n",
    "        filtered_idx = filter(lambda x : '.' not in x, [f['index'] for f in self._es.cat.indices(format='json')])\n",
    "        indices_names = [idx for idx in filtered_idx]\n",
    "        return indices_names\n",
    "\n",
    "    # Get the product in the 'products' index by name\n",
    "    def get_product_by_name(self, name):\n",
    "        query_body = {\n",
    "            \"query\": {\n",
    "                \"match\": {\n",
    "                    \"product\": name\n",
    "                }\n",
    "            }\n",
    "        }\n",
    "        possible_products = []\n",
    "        query = self._es.search(index=self._products_index, body=query_body)['hits']['hits']\n",
    "        \n",
    "        for p in query:\n",
    "            possible_products.append(p['_source'])\n",
    "        \n",
    "        return possible_products\n",
    "    \n",
    "    def get_qa_by_asin(self, asin, question):\n",
    "        query_body = {\n",
    "            \"query\": {\n",
    "                \"bool\": {\n",
    "                \"must\": [\n",
    "                    {\n",
    "                    \"match\": {\n",
    "                        \"asin\": asin\n",
    "                    }\n",
    "                    },\n",
    "                    {\n",
    "                    \"match\": {\n",
    "                        \"question\": question\n",
    "                    }\n",
    "                    }\n",
    "                ]\n",
    "                }\n",
    "            }\n",
    "            }\n",
    "\n",
    "        possible_answers = []\n",
    "        query = self._es.search(index=self._qa_index, body=query_body)['hits']['hits']\n",
    "        \n",
    "        for p in query:\n",
    "            possible_answers.append(p['_source'])\n",
    "        \n",
    "        return possible_answers\n",
    "\n",
    "    # Get the products names and id's from the 'products' index\n",
    "    def get_products(self):\n",
    "        result = []\n",
    "        query = self._es.search(index=self._products_index)['hits']['hits']\n",
    "        \n",
    "        for p in query:\n",
    "            p_id = p['_id']\n",
    "            p_name = p['_source']['product']\n",
    "            result.append((p_name, p_id))\n",
    "        return result\n",
    "    \n",
    "    # Get specific product fact\n",
    "    def get_product_fact(self, product_name, product_fact):\n",
    "        products_jsons = self.get_product_by_name(product_name)\n",
    "        possible_products = []\n",
    "\n",
    "        for product in products_jsons:\n",
    "            title = product.get(\"product\", \"TITLE\")\n",
    "            fact_json = product[\"product_info\"]\n",
    "            value = fact_json.get(product_fact, \"FACT\")\n",
    "            possible_products.append({\"Produto\": title, product_fact: value})\n",
    "        \n",
    "        return possible_products\n",
    "\n",
    "    def get_product_qa(self, product_name, question):\n",
    "        products_jsons = self.get_product_by_name(product_name)\n",
    "        if(len(products_jsons) < 1):\n",
    "            return []\n",
    "\n",
    "        product = products_jsons[0]\n",
    "        title = product[\"product\"]\n",
    "        add_info_json = product[\"additional_info\"]\n",
    "        asin = add_info_json[\"ASIN\"]\n",
    "        \n",
    "        value = self.get_qa_by_asin(asin, question)\n",
    "        \n",
    "        return {\"Produto\": title, \"qa\": value}\n",
    "\n",
    "    def get_product_price(self, product_name):\n",
    "        products_jsons = self.get_product_by_name(product_name)\n",
    "        possible_products = []\n",
    "\n",
    "        for product in products_jsons:\n",
    "            title = product.get(\"product\", \"TITLE\")\n",
    "            price = product.get(\"price\", \"PRICE\")\n",
    "            possible_products.append({\"Produto\": title, \"price\": price})\n",
    "        \n",
    "        return possible_products\n",
    "\n",
    "    def get_product_url(self, product_name):\n",
    "        products_json = self.get_product_by_name(product_name)\n",
    "        possible_products = [{\"Produto\": prod.get(\"product\", \"TITLE\"), \"URL\": f\"www.amazon.com.br/gp/product/{prod['additional_info']['ASIN']}\"} for prod in products_json]\n",
    "        return possible_products \n",
    "\n",
    "\n",
    "# Singleton implementation\n",
    "es_handle = EsHandle()"
   ]
  },
  {
   "cell_type": "code",
   "execution_count": 3,
   "id": "pleasant-bahamas",
   "metadata": {},
   "outputs": [
    {
     "output_type": "execute_result",
     "data": {
      "text/plain": [
       "[{'title': \"Celular Apple iPhone 11 64gb / Tela 6.1'' / 12MP / iOS 13 | Amazon.com.br\",\n",
       "  'product': \"Celular Apple iPhone 11 64gb / Tela 6.1'' / 12MP / iOS 13\",\n",
       "  'price': 'R$4.599,90',\n",
       "  'product_info': {'Sistema operacional': 'Ios',\n",
       "   'RAM': '64 GB',\n",
       "   'Capacidade de armazenamento da memória': '64 GB',\n",
       "   'Capacidade de armazenamento digital': '64 GB',\n",
       "   'Pilha(s) ou bateria(s):': '1 Íon de lítio baterias ou pilhas necessárias (inclusas).',\n",
       "   'Número do modelo': 'MWLU2QL/A',\n",
       "   'Tamanho de tela vertical': '6.1 Polegadas',\n",
       "   'Tecnologia da tela': 'LCD',\n",
       "   'Outras características de tela': 'Wireless',\n",
       "   'Formato': 'Smartphone',\n",
       "   'Cor': 'Branco',\n",
       "   'Número de unidades': '1',\n",
       "   'Modelos compatíveis': 'IPhone',\n",
       "   'Peso do produto': '470 g',\n",
       "   'Dimensões do produto': '17 x 9 x 5 cm; 470 g',\n",
       "   'Marca': 'Apple',\n",
       "   'Funciona a bateria ou pilha?': 'Sim',\n",
       "   'EAN': '0190199221314, 0190199221505'},\n",
       "  'additional_info': {'Dimensões do pacote': '17 x 9.4 x 5.2 centímetros',\n",
       "   'ASIN': 'B07XS47PVF',\n",
       "   'Disponível para compra desde': '24 setembro 2019',\n",
       "   'Avaliações de clientes': '',\n",
       "   'Ranking dos mais vendidos': ''}}]"
      ]
     },
     "metadata": {},
     "execution_count": 3
    }
   ],
   "source": [
    "possible_products = es_handle.get_product_by_name(\"iPhone\")\n",
    "possible_products"
   ]
  },
  {
   "cell_type": "code",
   "execution_count": 72,
   "metadata": {},
   "outputs": [
    {
     "output_type": "execute_result",
     "data": {
      "text/plain": [
       "[]"
      ]
     },
     "metadata": {},
     "execution_count": 72
    }
   ],
   "source": [
    "es_handle.get_product_qa(\"Carro\", \"vem com carregador\")"
   ]
  },
  {
   "cell_type": "code",
   "execution_count": null,
   "metadata": {},
   "outputs": [],
   "source": []
  }
 ],
 "metadata": {
  "kernelspec": {
   "name": "python3",
   "display_name": "Python 3.8.8 64-bit ('tcc': conda)"
  },
  "language_info": {
   "codemirror_mode": {
    "name": "ipython",
    "version": 3
   },
   "file_extension": ".py",
   "mimetype": "text/x-python",
   "name": "python",
   "nbconvert_exporter": "python",
   "pygments_lexer": "ipython3",
   "version": "3.8.8"
  },
  "interpreter": {
   "hash": "4fe4017ae77bb0e9d1c40aea8a2059eee1588c283ad872d6c2744a97e9a9a1e1"
  }
 },
 "nbformat": 4,
 "nbformat_minor": 5
}