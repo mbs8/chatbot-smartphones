{
 "cells": [
  {
   "cell_type": "code",
   "execution_count": 5,
   "id": "varying-briefs",
   "metadata": {},
   "outputs": [],
   "source": [
    "from elasticsearch import Elasticsearch\n",
    "import json\n",
    "PRODUCT_INDEX = 'products'\n",
    "QA_INDEX = 'qa'     \n",
    "\n"
   ]
  },
  {
   "cell_type": "code",
   "execution_count": 1,
   "id": "documentary-speaker",
   "metadata": {},
   "outputs": [],
   "source": [
    "class EsHandle:\n",
    "    def __init__(self):\n",
    "        self._products_index = 'products'\n",
    "        self._qa_index = 'qa'\n",
    "        self._es = Elasticsearch()\n",
    "    \n",
    "    # Query all the indices that aren't system indices in the elasticsearch\n",
    "    def get_useful_indices(self):\n",
    "        filtered_idx = filter(lambda x : '.' not in x, [f['index'] for f in self._es.cat.indices(format='json')])\n",
    "        indices_names = [idx for idx in filtered_idx]\n",
    "        return indices_names\n",
    "\n",
    "    # Get the product in the 'products' index by name\n",
    "    def get_product_by_name(self, name):\n",
    "        query_body = {\n",
    "        \"query\": {\n",
    "            \"match\": {\n",
    "                \"product\": name\n",
    "            }\n",
    "        }\n",
    "        }\n",
    "        possible_products = []\n",
    "        query = self._es.search(index=self._products_index, body=query_body)['hits']['hits']\n",
    "        \n",
    "        for p in query:\n",
    "            possible_products.append(p['_source'])\n",
    "        \n",
    "        return possible_products\n",
    "\n",
    "    # Get the products names and id's from the 'products' index\n",
    "    def get_products(self):\n",
    "        result = []\n",
    "        query = self._es.search(index=self._products_index)['hits']['hits']\n",
    "        \n",
    "        for p in query:\n",
    "            p_id = p['_id']\n",
    "            p_name = p['_source']['product']\n",
    "            result.append((p_name, p_id))\n",
    "        return result"
   ]
  },
  {
   "cell_type": "code",
   "execution_count": 6,
   "id": "pleasant-bahamas",
   "metadata": {},
   "outputs": [
    {
     "output_type": "execute_result",
     "data": {
      "text/plain": [
       "'{\"title\": \"Celular Apple iPhone 11 64gb / Tela 6.1\\'\\' / 12MP / iOS 13 | Amazon.com.br\", \"product\": \"Celular Apple iPhone 11 64gb / Tela 6.1\\'\\' / 12MP / iOS 13\", \"price\": \"R$4.599,90\", \"product_info\": {\"Sistema operacional\": \"Ios\", \"RAM\": \"64 GB\", \"Capacidade de armazenamento da mem\\\\u00f3ria\": \"64 GB\", \"Capacidade de armazenamento digital\": \"64 GB\", \"Pilha(s) ou bateria(s):\": \"1 \\\\u00cdon de l\\\\u00edtio baterias ou pilhas necess\\\\u00e1rias (inclusas).\", \"N\\\\u00famero do modelo\": \"MWLU2QL/A\", \"Tamanho de tela vertical\": \"6.1 Polegadas\", \"Tecnologia da tela\": \"LCD\", \"Outras caracter\\\\u00edsticas de tela\": \"Wireless\", \"Formato\": \"Smartphone\", \"Cor\": \"Branco\", \"N\\\\u00famero de unidades\": \"1\", \"Modelos compat\\\\u00edveis\": \"IPhone\", \"Peso do produto\": \"470 g\", \"Dimens\\\\u00f5es do produto\": \"17 x 9 x 5 cm; 470 g\", \"Marca\": \"Apple\", \"Funciona a bateria ou pilha?\": \"Sim\", \"EAN\": \"0190199221314, 0190199221505\"}, \"additional_info\": {\"Dimens\\\\u00f5es do pacote\": \"17 x 9.4 x 5.2 cent\\\\u00edmetros\", \"ASIN\": \"B07XS47PVF\", \"Dispon\\\\u00edvel para compra desde\": \"24 setembro 2019\", \"Avalia\\\\u00e7\\\\u00f5es de clientes\": \"\", \"Ranking dos mais vendidos\": \"\"}}'"
      ]
     },
     "metadata": {},
     "execution_count": 6
    }
   ],
   "source": [
    "handle = EsHandle()\n",
    "json.dumps(handle.get_product_by_name(\"iPhone\")[0])"
   ]
  },
  {
   "cell_type": "code",
   "execution_count": 3,
   "id": "worth-crossing",
   "metadata": {},
   "outputs": [
    {
     "output_type": "execute_result",
     "data": {
      "text/plain": [
       "{'title': \"Celular Apple iPhone 11 64gb / Tela 6.1'' / 12MP / iOS 13 | Amazon.com.br\",\n",
       " 'product': \"Celular Apple iPhone 11 64gb / Tela 6.1'' / 12MP / iOS 13\",\n",
       " 'price': 'R$4.599,90',\n",
       " 'product_info': {'Sistema operacional': 'Ios',\n",
       "  'RAM': '64 GB',\n",
       "  'Capacidade de armazenamento da memória': '64 GB',\n",
       "  'Capacidade de armazenamento digital': '64 GB',\n",
       "  'Pilha(s) ou bateria(s):': '1 Íon de lítio baterias ou pilhas necessárias (inclusas).',\n",
       "  'Número do modelo': 'MWLU2QL/A',\n",
       "  'Tamanho de tela vertical': '6.1 Polegadas',\n",
       "  'Tecnologia da tela': 'LCD',\n",
       "  'Outras características de tela': 'Wireless',\n",
       "  'Formato': 'Smartphone',\n",
       "  'Cor': 'Branco',\n",
       "  'Número de unidades': '1',\n",
       "  'Modelos compatíveis': 'IPhone',\n",
       "  'Peso do produto': '470 g',\n",
       "  'Dimensões do produto': '17 x 9 x 5 cm; 470 g',\n",
       "  'Marca': 'Apple',\n",
       "  'Funciona a bateria ou pilha?': 'Sim',\n",
       "  'EAN': '0190199221314, 0190199221505'},\n",
       " 'additional_info': {'Dimensões do pacote': '17 x 9.4 x 5.2 centímetros',\n",
       "  'ASIN': 'B07XS47PVF',\n",
       "  'Disponível para compra desde': '24 setembro 2019',\n",
       "  'Avaliações de clientes': '',\n",
       "  'Ranking dos mais vendidos': ''}}"
      ]
     },
     "metadata": {},
     "execution_count": 3
    }
   ],
   "source": [
    "p"
   ]
  },
  {
   "cell_type": "code",
   "execution_count": null,
   "metadata": {},
   "outputs": [],
   "source": []
  }
 ],
 "metadata": {
  "kernelspec": {
   "name": "python3",
   "display_name": "Python 3.8.8 64-bit ('tcc': conda)"
  },
  "language_info": {
   "codemirror_mode": {
    "name": "ipython",
    "version": 3
   },
   "file_extension": ".py",
   "mimetype": "text/x-python",
   "name": "python",
   "nbconvert_exporter": "python",
   "pygments_lexer": "ipython3",
   "version": "3.8.8"
  },
  "interpreter": {
   "hash": "4fe4017ae77bb0e9d1c40aea8a2059eee1588c283ad872d6c2744a97e9a9a1e1"
  }
 },
 "nbformat": 4,
 "nbformat_minor": 5
}