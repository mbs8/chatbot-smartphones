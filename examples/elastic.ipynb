{
 "cells": [
  {
   "cell_type": "code",
   "execution_count": 24,
   "id": "light-norfolk",
   "metadata": {},
   "outputs": [],
   "source": [
    "from elasticsearch import Elasticsearch\n",
    "PRODUCT_INDEX = 'products'\n",
    "\n",
    "# Query all the indices that aren't system indices in the elasticsearch\n",
    "def get_useful_indices():\n",
    "    es = Elasticsearch()\n",
    "    filtered_idx = filter(lambda x : '.' not in x, [f['index'] for f in es.cat.indices(format='json')])\n",
    "    indices_names = [idx for idx in filtered_idx]\n",
    "    return indices_names\n",
    "\n",
    "# Get the product in the 'products' index by name\n",
    "def get_product_by_name(name):\n",
    "    es = Elasticsearch()\n",
    "    query_body = {\n",
    "      \"query\": {\n",
    "          \"match\": {\n",
    "              \"product\": name\n",
    "          }\n",
    "      }\n",
    "    }\n",
    "    possible_products = []\n",
    "    query = es.search(index=PRODUCT_INDEX, body=query_body)['hits']['hits']\n",
    "    \n",
    "    for p in query:\n",
    "        possible_products.append(p['_source'])\n",
    "    \n",
    "    return possible_products\n",
    "\n",
    "# Get the products names and id's from the 'products' index\n",
    "def get_products():\n",
    "    result = []\n",
    "    es = Elasticsearch()\n",
    "    query = es.search(index=PRODUCT_INDEX)['hits']['hits']\n",
    "    \n",
    "    for p in query:\n",
    "        p_id = p['_id']\n",
    "        p_name = p['_source']['product']\n",
    "        result.append((p_name, p_id))\n",
    "    return result"
   ]
  },
  {
   "cell_type": "code",
   "execution_count": 28,
   "id": "reasonable-jesus",
   "metadata": {},
   "outputs": [
    {
     "data": {
      "text/plain": [
       "('Celular Xiaomi Poco X3 6GB/128GB NFC - Shadow Grey', 'UNWdg3gBUC8jSKsEtHo_')"
      ]
     },
     "execution_count": 28,
     "metadata": {},
     "output_type": "execute_result"
    }
   ],
   "source": [
    "get_products()[0]"
   ]
  },
  {
   "cell_type": "code",
   "execution_count": null,
   "id": "growing-capture",
   "metadata": {},
   "outputs": [],
   "source": []
  }
 ],
 "metadata": {
  "kernelspec": {
   "display_name": "Python 3",
   "language": "python",
   "name": "python3"
  },
  "language_info": {
   "codemirror_mode": {
    "name": "ipython",
    "version": 3
   },
   "file_extension": ".py",
   "mimetype": "text/x-python",
   "name": "python",
   "nbconvert_exporter": "python",
   "pygments_lexer": "ipython3",
   "version": "3.8.8"
  }
 },
 "nbformat": 4,
 "nbformat_minor": 5
}
